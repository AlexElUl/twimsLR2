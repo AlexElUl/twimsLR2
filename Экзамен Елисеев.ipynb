{
 "cells": [
  {
   "cell_type": "markdown",
   "metadata": {},
   "source": [
    "Экзамен по ТВИМС.\n",
    "Студент: Елисеев А. Ю.\n",
    "Номер по списку: 17."
   ]
  },
  {
   "cell_type": "markdown",
   "metadata": {},
   "source": [
    "1. Теория: 19. Дисперсия абсолютно непрерывных случайных величин и ее свойства.<br> \n",
    "Дисперсия - это показатель, показывающий разброс значений относительно математического ожидания. Дисперсия применяется для анализа случайных процессов, в том в физике, статистике и экономике и других науках.<br>\n",
    "1.1. Чем меньше диспресия. тем меньше разброс значений, чем больше диспресия - тем больше разброс;<br>\n",
    "1.2. Дисперсия не может быть меньше нуля;<br>\n",
    "1.3. Дисперся равна нулю в том случае, когда величина имеет ровно одно значение;<br>\n",
    "1.4. При умножении случайной величины на число, диспресию необходимо умножить на квадрат этого числа;<br>\n",
    "1.5. Дисперсия суммы двух независимых случайных величин равняется сумме их диспресий. <br>\n",
    "1.6. Если к случайной величине прибавить константу, то дисперсия не изменится.<br>\n",
    "1.7. Для абсолютно непрерывной случайной величины X c плотностью рапспределения fX(x), диспресия определяется следующим образом:<br>\n",
    "D(X) = E[(X - E[X])^2], где E[X] - это математическое ожидание случайной величины X."
   ]
  },
  {
   "cell_type": "code",
   "execution_count": 3,
   "metadata": {},
   "outputs": [
    {
     "name": "stdout",
     "output_type": "stream",
     "text": [
      "а: 2520 б: 362880 в: 871782912000\n"
     ]
    }
   ],
   "source": [
    "# Задание 2\n",
    "from math import factorial\n",
    "from collections import Counter\n",
    "sname, name,  fname = 'Александр', 'Елисеев', 'ЕлисеевАлександр'\n",
    "\n",
    "def unique_permutations_count(word):\n",
    "    letter_counts = Counter(word)\n",
    "    denominator = 1\n",
    "    for count in letter_counts.values():\n",
    "        denominator *= factorial(count)\n",
    "    return factorial(len(word)) // denominator\n",
    "\n",
    "a, b, c = unique_permutations_count(name), unique_permutations_count(sname), unique_permutations_count(fname)\n",
    "print('а:', a, 'б:', b,  'в:', c)"
   ]
  },
  {
   "cell_type": "code",
   "execution_count": null,
   "metadata": {},
   "outputs": [
    {
     "name": "stdout",
     "output_type": "stream",
     "text": [
      "         Значения\n",
      "count  100.000000\n",
      "mean     0.396688\n",
      "std     11.007108\n",
      "min    -16.795682\n",
      "25%     -9.851572\n",
      "50%      0.173271\n",
      "75%     10.017515\n",
      "max     19.514817\n"
     ]
    },
    {
     "data": {
      "image/png": "[encoded data removed]",
      "text/plain": [
       "<Figure size 800x600 with 1 Axes>"
      ]
     },
     "metadata": {},
     "output_type": "display_data"
    }
   ],
   "source": [
    "# Задание 3\n",
    "import numpy as np\n",
    "import pandas as pd\n",
    "import matplotlib.pyplot as plt\n",
    "\n",
    "np.random.seed(42)\n",
    "data = np.random.uniform(-17, 20, 100)\n",
    "df = pd.DataFrame(data, columns=['Значения'])\n",
    "# 3.1\n",
    "stats = df.describe()\n",
    "print(stats)\n",
    "\n",
    "# Построение ящичковой диаграммы размаха\n",
    "plt.figure(figsize=(8, 6))\n",
    "plt.boxplot(data, vert=False, patch_artist=True, showmeans=True)\n",
    "plt.title('Ящичковая диаграмма размаха', fontsize=14)\n",
    "plt.xlabel('Значения', fontsize=12)\n",
    "plt.grid(axis='x')\n",
    "plt.show()\n"
   ]
  }
 ],
 "metadata": {
  "kernelspec": {
   "display_name": "Python 3",
   "language": "python",
   "name": "python3"
  },
  "language_info": {
   "codemirror_mode": {
    "name": "ipython",
    "version": 3
   },
   "file_extension": ".py",
   "mimetype": "text/x-python",
   "name": "python",
   "nbconvert_exporter": "python",
   "pygments_lexer": "ipython3",
   "version": "3.13.1"
  }
 },
 "nbformat": 4,
 "nbformat_minor": 2
}
